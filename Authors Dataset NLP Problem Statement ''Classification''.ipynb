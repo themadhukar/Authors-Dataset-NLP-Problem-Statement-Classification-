{
 "cells": [
  {
   "cell_type": "code",
   "execution_count": 1,
   "metadata": {},
   "outputs": [],
   "source": [
    "import numpy as np\n",
    "import pandas as pd\n",
    "import matplotlib.pyplot as plt\n",
    "from nltk.tokenize import RegexpTokenizer\n",
    "from nltk.corpus import stopwords\n",
    "from nltk.stem import WordNetLemmatizer\n",
    "from sklearn.model_selection import train_test_split\n",
    "from sklearn.feature_extraction.text import TfidfVectorizer\n",
    "from sklearn.linear_model import LogisticRegression\n",
    "from sklearn.metrics import precision_score,confusion_matrix,recall_score,f1_score,classification_report\n",
    "from sklearn.linear_model import Lasso,Ridge\n",
    "from sklearn.linear_model import SGDClassifier\n",
    "from sklearn.tree import DecisionTreeClassifier\n",
    "from sklearn.tree import DecisionTreeRegressor\n",
    "from sklearn.ensemble import RandomForestClassifier\n",
    "from sklearn.ensemble import AdaBoostClassifier\n",
    "from sklearn.naive_bayes import GaussianNB\n",
    "from sklearn.ensemble import GradientBoostingClassifier\n",
    "from sklearn.ensemble import RandomForestRegressor\n",
    "from sklearn.neighbors import KNeighborsClassifier\n",
    "from sklearn.model_selection import GridSearchCV,RandomizedSearchCV\n",
    "from scipy.stats import randint\n",
    "\n",
    "import warnings\n",
    "warnings.filterwarnings('ignore')"
   ]
  },
  {
   "cell_type": "code",
   "execution_count": 2,
   "metadata": {
    "scrolled": true
   },
   "outputs": [
    {
     "data": {
      "text/html": [
       "<div>\n",
       "<style scoped>\n",
       "    .dataframe tbody tr th:only-of-type {\n",
       "        vertical-align: middle;\n",
       "    }\n",
       "\n",
       "    .dataframe tbody tr th {\n",
       "        vertical-align: top;\n",
       "    }\n",
       "\n",
       "    .dataframe thead th {\n",
       "        text-align: right;\n",
       "    }\n",
       "</style>\n",
       "<table border=\"1\" class=\"dataframe\">\n",
       "  <thead>\n",
       "    <tr style=\"text-align: right;\">\n",
       "      <th></th>\n",
       "      <th>id</th>\n",
       "      <th>text</th>\n",
       "      <th>author</th>\n",
       "    </tr>\n",
       "  </thead>\n",
       "  <tbody>\n",
       "    <tr>\n",
       "      <th>0</th>\n",
       "      <td>id26305</td>\n",
       "      <td>This process, however, afforded me no means of...</td>\n",
       "      <td>EAP</td>\n",
       "    </tr>\n",
       "    <tr>\n",
       "      <th>1</th>\n",
       "      <td>id17569</td>\n",
       "      <td>It never once occurred to me that the fumbling...</td>\n",
       "      <td>HPL</td>\n",
       "    </tr>\n",
       "  </tbody>\n",
       "</table>\n",
       "</div>"
      ],
      "text/plain": [
       "        id                                               text author\n",
       "0  id26305  This process, however, afforded me no means of...    EAP\n",
       "1  id17569  It never once occurred to me that the fumbling...    HPL"
      ]
     },
     "execution_count": 2,
     "metadata": {},
     "output_type": "execute_result"
    }
   ],
   "source": [
    "df=pd.read_csv('Authors_dataset.csv')\n",
    "df.head(2)"
   ]
  },
  {
   "cell_type": "code",
   "execution_count": 3,
   "metadata": {},
   "outputs": [],
   "source": [
    "df.drop(['id'],axis=1,inplace=True)"
   ]
  },
  {
   "cell_type": "code",
   "execution_count": 4,
   "metadata": {},
   "outputs": [],
   "source": [
    "y=df['author']\n",
    "df.drop(columns='author',inplace=True)"
   ]
  },
  {
   "cell_type": "code",
   "execution_count": 5,
   "metadata": {},
   "outputs": [
    {
     "data": {
      "text/html": [
       "<div>\n",
       "<style scoped>\n",
       "    .dataframe tbody tr th:only-of-type {\n",
       "        vertical-align: middle;\n",
       "    }\n",
       "\n",
       "    .dataframe tbody tr th {\n",
       "        vertical-align: top;\n",
       "    }\n",
       "\n",
       "    .dataframe thead th {\n",
       "        text-align: right;\n",
       "    }\n",
       "</style>\n",
       "<table border=\"1\" class=\"dataframe\">\n",
       "  <thead>\n",
       "    <tr style=\"text-align: right;\">\n",
       "      <th></th>\n",
       "      <th>text</th>\n",
       "    </tr>\n",
       "  </thead>\n",
       "  <tbody>\n",
       "    <tr>\n",
       "      <th>0</th>\n",
       "      <td>This process, however, afforded me no means of...</td>\n",
       "    </tr>\n",
       "    <tr>\n",
       "      <th>1</th>\n",
       "      <td>It never once occurred to me that the fumbling...</td>\n",
       "    </tr>\n",
       "    <tr>\n",
       "      <th>2</th>\n",
       "      <td>In his left hand was a gold snuff box, from wh...</td>\n",
       "    </tr>\n",
       "    <tr>\n",
       "      <th>3</th>\n",
       "      <td>How lovely is spring As we looked from Windsor...</td>\n",
       "    </tr>\n",
       "    <tr>\n",
       "      <th>4</th>\n",
       "      <td>Finding nothing else, not even gold, the Super...</td>\n",
       "    </tr>\n",
       "    <tr>\n",
       "      <th>...</th>\n",
       "      <td>...</td>\n",
       "    </tr>\n",
       "    <tr>\n",
       "      <th>19574</th>\n",
       "      <td>I could have fancied, while I looked at it, th...</td>\n",
       "    </tr>\n",
       "    <tr>\n",
       "      <th>19575</th>\n",
       "      <td>The lids clenched themselves together as if in...</td>\n",
       "    </tr>\n",
       "    <tr>\n",
       "      <th>19576</th>\n",
       "      <td>Mais il faut agir that is to say, a Frenchman ...</td>\n",
       "    </tr>\n",
       "    <tr>\n",
       "      <th>19577</th>\n",
       "      <td>For an item of news like this, it strikes us i...</td>\n",
       "    </tr>\n",
       "    <tr>\n",
       "      <th>19578</th>\n",
       "      <td>He laid a gnarled claw on my shoulder, and it ...</td>\n",
       "    </tr>\n",
       "  </tbody>\n",
       "</table>\n",
       "<p>19579 rows × 1 columns</p>\n",
       "</div>"
      ],
      "text/plain": [
       "                                                    text\n",
       "0      This process, however, afforded me no means of...\n",
       "1      It never once occurred to me that the fumbling...\n",
       "2      In his left hand was a gold snuff box, from wh...\n",
       "3      How lovely is spring As we looked from Windsor...\n",
       "4      Finding nothing else, not even gold, the Super...\n",
       "...                                                  ...\n",
       "19574  I could have fancied, while I looked at it, th...\n",
       "19575  The lids clenched themselves together as if in...\n",
       "19576  Mais il faut agir that is to say, a Frenchman ...\n",
       "19577  For an item of news like this, it strikes us i...\n",
       "19578  He laid a gnarled claw on my shoulder, and it ...\n",
       "\n",
       "[19579 rows x 1 columns]"
      ]
     },
     "execution_count": 5,
     "metadata": {},
     "output_type": "execute_result"
    }
   ],
   "source": [
    "df"
   ]
  },
  {
   "cell_type": "markdown",
   "metadata": {},
   "source": [
    "# Tokenize"
   ]
  },
  {
   "cell_type": "code",
   "execution_count": 6,
   "metadata": {},
   "outputs": [],
   "source": [
    "regexp=RegexpTokenizer(r'\\w+')\n",
    "stopwords_en=stopwords.words('english')\n",
    "lemmatizer=WordNetLemmatizer()      \n",
    "vectorizer=TfidfVectorizer()"
   ]
  },
  {
   "cell_type": "markdown",
   "metadata": {},
   "source": [
    "# Train Test Split"
   ]
  },
  {
   "cell_type": "code",
   "execution_count": 7,
   "metadata": {},
   "outputs": [],
   "source": [
    "X_train,X_test,y_train,y_test=train_test_split(df,y,test_size=0.2,random_state=42)"
   ]
  },
  {
   "cell_type": "markdown",
   "metadata": {},
   "source": [
    "# Preprocessing"
   ]
  },
  {
   "cell_type": "code",
   "execution_count": 8,
   "metadata": {},
   "outputs": [],
   "source": [
    "def preprocessing(review):\n",
    "    \n",
    "    tokens=regexp.tokenize(review)\n",
    "    \n",
    "    pure_tokens=[token.lower() for token in tokens if token.lower() not in stopwords_en]\n",
    "    \n",
    "    lemma_tokens=[lemmatizer.lemmatize(pure_token,pos='v') for pure_token in pure_tokens]\n",
    "    \n",
    "    return ' '.join(lemma_tokens)"
   ]
  },
  {
   "cell_type": "code",
   "execution_count": 9,
   "metadata": {},
   "outputs": [],
   "source": [
    "X_train['text']=X_train['text'].apply(preprocessing)\n",
    "\n",
    "X_test['text']=X_test['text'].apply(preprocessing)"
   ]
  },
  {
   "cell_type": "code",
   "execution_count": 10,
   "metadata": {},
   "outputs": [],
   "source": [
    "X_train_tfidf=vectorizer.fit_transform(X_train['text'])\n",
    "\n",
    "\n",
    "X_test_tfidf=vectorizer.transform(X_test['text'])"
   ]
  },
  {
   "cell_type": "markdown",
   "metadata": {},
   "source": [
    "# Fitting Model\n",
    "## Logistic Regression"
   ]
  },
  {
   "cell_type": "code",
   "execution_count": 11,
   "metadata": {},
   "outputs": [
    {
     "name": "stdout",
     "output_type": "stream",
     "text": [
      "Train Score 0.9240886164847092\n",
      "Test Score 0.8094994892747702\n"
     ]
    }
   ],
   "source": [
    "logreg=LogisticRegression()\n",
    "logreg.fit(X_train_tfidf,y_train)\n",
    "logreg_pred=logreg.predict(X_test_tfidf)\n",
    "print('Train Score',logreg.score(X_train_tfidf,y_train))\n",
    "print('Test Score',logreg.score(X_test_tfidf,y_test))"
   ]
  },
  {
   "cell_type": "markdown",
   "metadata": {},
   "source": [
    "# Cofusion Matrix"
   ]
  },
  {
   "cell_type": "code",
   "execution_count": 12,
   "metadata": {},
   "outputs": [
    {
     "data": {
      "text/plain": [
       "array([[1353,  110,  107],\n",
       "       [ 179,  832,   60],\n",
       "       [ 210,   80,  985]], dtype=int64)"
      ]
     },
     "execution_count": 12,
     "metadata": {},
     "output_type": "execute_result"
    }
   ],
   "source": [
    "confusion_matrix(y_test,logreg_pred)"
   ]
  },
  {
   "cell_type": "code",
   "execution_count": 13,
   "metadata": {},
   "outputs": [
    {
     "name": "stdout",
     "output_type": "stream",
     "text": [
      "              precision    recall  f1-score   support\n",
      "\n",
      "         EAP       0.78      0.86      0.82      1570\n",
      "         HPL       0.81      0.78      0.80      1071\n",
      "         MWS       0.86      0.77      0.81      1275\n",
      "\n",
      "    accuracy                           0.81      3916\n",
      "   macro avg       0.82      0.80      0.81      3916\n",
      "weighted avg       0.81      0.81      0.81      3916\n",
      "\n"
     ]
    }
   ],
   "source": [
    "print(classification_report(y_test,logreg_pred))"
   ]
  },
  {
   "cell_type": "markdown",
   "metadata": {},
   "source": [
    "# Schochastic Gradient Descent Classifier(SGDClassifier)\n"
   ]
  },
  {
   "cell_type": "code",
   "execution_count": 14,
   "metadata": {},
   "outputs": [
    {
     "data": {
      "text/plain": [
       "array(['EAP', 'EAP', 'EAP', ..., 'EAP', 'EAP', 'EAP'], dtype='<U3')"
      ]
     },
     "execution_count": 14,
     "metadata": {},
     "output_type": "execute_result"
    }
   ],
   "source": [
    "sgd_reg=SGDClassifier(alpha=1)\n",
    "sgd_reg.fit(X_train_tfidf,y_train)\n",
    "pred=sgd_reg.predict(X_test_tfidf)\n",
    "pred"
   ]
  },
  {
   "cell_type": "markdown",
   "metadata": {},
   "source": [
    "# 2. Decision Tree Classifier"
   ]
  },
  {
   "cell_type": "code",
   "execution_count": 15,
   "metadata": {},
   "outputs": [
    {
     "name": "stdout",
     "output_type": "stream",
     "text": [
      "Train score 0.9997446210815297\n",
      "Test Score 0.6003575076608785\n"
     ]
    }
   ],
   "source": [
    "ds_tree=DecisionTreeClassifier()\n",
    "ds_tree.fit(X_train_tfidf,y_train)\n",
    "pred=ds_tree.predict(X_test_tfidf)\n",
    "print('Train score',ds_tree.score(X_train_tfidf,y_train))\n",
    "print('Test Score',ds_tree.score(X_test_tfidf,y_test))\n"
   ]
  },
  {
   "cell_type": "markdown",
   "metadata": {},
   "source": [
    "# Hyperparameter Tunning DS Tree"
   ]
  },
  {
   "cell_type": "code",
   "execution_count": 16,
   "metadata": {},
   "outputs": [
    {
     "data": {
      "text/plain": [
       "RandomizedSearchCV(cv=5, estimator=DecisionTreeClassifier(),\n",
       "                   param_distributions={'criterion': ['gini', 'entropy'],\n",
       "                                        'max_depth': [3, None],\n",
       "                                        'min_samples_leaf': <scipy.stats._distn_infrastructure.rv_frozen object at 0x000001A2E2A18190>})"
      ]
     },
     "execution_count": 16,
     "metadata": {},
     "output_type": "execute_result"
    }
   ],
   "source": [
    "ds_tree=DecisionTreeClassifier()\n",
    "\n",
    "param_dist={\"max_depth\":[3,None],\n",
    "            \"min_samples_leaf\": randint(1,9),\n",
    "            \"criterion\":[\"gini\",\"entropy\"]\n",
    "           }\n",
    "rscv=RandomizedSearchCV(ds_tree,param_distributions=param_dist,cv=5)\n",
    "rscv.fit(X_train_tfidf,y_train)"
   ]
  },
  {
   "cell_type": "code",
   "execution_count": 17,
   "metadata": {},
   "outputs": [
    {
     "name": "stdout",
     "output_type": "stream",
     "text": [
      "{'criterion': 'gini', 'max_depth': None, 'min_samples_leaf': 2}\n",
      "DecisionTreeClassifier(min_samples_leaf=2)\n",
      "0.5914579442909675\n"
     ]
    }
   ],
   "source": [
    "print(rscv.best_params_)\n",
    "print(rscv.best_estimator_)\n",
    "print(rscv.best_score_)"
   ]
  },
  {
   "cell_type": "markdown",
   "metadata": {},
   "source": [
    "# 3. Random Forest Classifier"
   ]
  },
  {
   "cell_type": "code",
   "execution_count": 18,
   "metadata": {},
   "outputs": [
    {
     "name": "stdout",
     "output_type": "stream",
     "text": [
      "Train Score 0.9997446210815297\n",
      "Test Score 0.7216547497446374\n"
     ]
    }
   ],
   "source": [
    "from sklearn.ensemble import RandomForestClassifier\n",
    "rf=RandomForestClassifier()\n",
    "rf.fit(X_train_tfidf,y_train)\n",
    "pred=rf.predict(X_test_tfidf)\n",
    "print('Train Score',rf.score(X_train_tfidf,y_train))\n",
    "print('Test Score',rf.score(X_test_tfidf,y_test))"
   ]
  },
  {
   "cell_type": "code",
   "execution_count": 19,
   "metadata": {
    "scrolled": true
   },
   "outputs": [
    {
     "data": {
      "text/plain": [
       "array([[1310,  124,  136],\n",
       "       [ 293,  695,   83],\n",
       "       [ 338,  116,  821]], dtype=int64)"
      ]
     },
     "execution_count": 19,
     "metadata": {},
     "output_type": "execute_result"
    }
   ],
   "source": [
    "confusion_matrix(y_test,pred)"
   ]
  },
  {
   "cell_type": "code",
   "execution_count": 20,
   "metadata": {
    "scrolled": true
   },
   "outputs": [
    {
     "name": "stdout",
     "output_type": "stream",
     "text": [
      "              precision    recall  f1-score   support\n",
      "\n",
      "         EAP       0.67      0.83      0.75      1570\n",
      "         HPL       0.74      0.65      0.69      1071\n",
      "         MWS       0.79      0.64      0.71      1275\n",
      "\n",
      "    accuracy                           0.72      3916\n",
      "   macro avg       0.74      0.71      0.72      3916\n",
      "weighted avg       0.73      0.72      0.72      3916\n",
      "\n"
     ]
    }
   ],
   "source": [
    "print(classification_report(y_test,pred))"
   ]
  },
  {
   "cell_type": "markdown",
   "metadata": {},
   "source": [
    "# Hyperparameter Tunnig Random Forest"
   ]
  },
  {
   "cell_type": "code",
   "execution_count": 21,
   "metadata": {
    "scrolled": false
   },
   "outputs": [
    {
     "name": "stdout",
     "output_type": "stream",
     "text": [
      "Fitting 5 folds for each of 10 candidates, totalling 50 fits\n",
      "[CV 1/5] END max_depth=8, max_features=auto, min_samples_split=9, n_estimators=70; total time=   2.9s\n",
      "[CV 2/5] END max_depth=8, max_features=auto, min_samples_split=9, n_estimators=70; total time=   2.7s\n",
      "[CV 3/5] END max_depth=8, max_features=auto, min_samples_split=9, n_estimators=70; total time=   3.1s\n",
      "[CV 4/5] END max_depth=8, max_features=auto, min_samples_split=9, n_estimators=70; total time=   3.2s\n",
      "[CV 5/5] END max_depth=8, max_features=auto, min_samples_split=9, n_estimators=70; total time=   3.3s\n",
      "[CV 1/5] END max_depth=8, max_features=sqrt, min_samples_split=7, n_estimators=50; total time=   2.2s\n",
      "[CV 2/5] END max_depth=8, max_features=sqrt, min_samples_split=7, n_estimators=50; total time=   1.7s\n",
      "[CV 3/5] END max_depth=8, max_features=sqrt, min_samples_split=7, n_estimators=50; total time=   1.7s\n",
      "[CV 4/5] END max_depth=8, max_features=sqrt, min_samples_split=7, n_estimators=50; total time=   1.7s\n",
      "[CV 5/5] END max_depth=8, max_features=sqrt, min_samples_split=7, n_estimators=50; total time=   1.7s\n",
      "[CV 1/5] END max_depth=7, max_features=log2, min_samples_split=9, n_estimators=70; total time=   1.1s\n",
      "[CV 2/5] END max_depth=7, max_features=log2, min_samples_split=9, n_estimators=70; total time=   1.2s\n",
      "[CV 3/5] END max_depth=7, max_features=log2, min_samples_split=9, n_estimators=70; total time=   1.1s\n",
      "[CV 4/5] END max_depth=7, max_features=log2, min_samples_split=9, n_estimators=70; total time=   1.1s\n",
      "[CV 5/5] END max_depth=7, max_features=log2, min_samples_split=9, n_estimators=70; total time=   1.2s\n",
      "[CV 1/5] END max_depth=7, max_features=sqrt, min_samples_split=9, n_estimators=60; total time=   1.8s\n",
      "[CV 2/5] END max_depth=7, max_features=sqrt, min_samples_split=9, n_estimators=60; total time=   1.8s\n",
      "[CV 3/5] END max_depth=7, max_features=sqrt, min_samples_split=9, n_estimators=60; total time=   1.8s\n",
      "[CV 4/5] END max_depth=7, max_features=sqrt, min_samples_split=9, n_estimators=60; total time=   1.8s\n",
      "[CV 5/5] END max_depth=7, max_features=sqrt, min_samples_split=9, n_estimators=60; total time=   1.8s\n",
      "[CV 1/5] END max_depth=9, max_features=sqrt, min_samples_split=4, n_estimators=60; total time=   2.3s\n",
      "[CV 2/5] END max_depth=9, max_features=sqrt, min_samples_split=4, n_estimators=60; total time=   2.2s\n",
      "[CV 3/5] END max_depth=9, max_features=sqrt, min_samples_split=4, n_estimators=60; total time=   2.2s\n",
      "[CV 4/5] END max_depth=9, max_features=sqrt, min_samples_split=4, n_estimators=60; total time=   2.2s\n",
      "[CV 5/5] END max_depth=9, max_features=sqrt, min_samples_split=4, n_estimators=60; total time=   2.3s\n",
      "[CV 1/5] END max_depth=10, max_features=sqrt, min_samples_split=4, n_estimators=50; total time=   2.0s\n",
      "[CV 2/5] END max_depth=10, max_features=sqrt, min_samples_split=4, n_estimators=50; total time=   2.1s\n",
      "[CV 3/5] END max_depth=10, max_features=sqrt, min_samples_split=4, n_estimators=50; total time=   2.1s\n",
      "[CV 4/5] END max_depth=10, max_features=sqrt, min_samples_split=4, n_estimators=50; total time=   2.8s\n",
      "[CV 5/5] END max_depth=10, max_features=sqrt, min_samples_split=4, n_estimators=50; total time=   2.9s\n",
      "[CV 1/5] END max_depth=10, max_features=log2, min_samples_split=9, n_estimators=60; total time=   1.9s\n",
      "[CV 2/5] END max_depth=10, max_features=log2, min_samples_split=9, n_estimators=60; total time=   1.7s\n",
      "[CV 3/5] END max_depth=10, max_features=log2, min_samples_split=9, n_estimators=60; total time=   2.0s\n",
      "[CV 4/5] END max_depth=10, max_features=log2, min_samples_split=9, n_estimators=60; total time=   1.4s\n",
      "[CV 5/5] END max_depth=10, max_features=log2, min_samples_split=9, n_estimators=60; total time=   1.4s\n",
      "[CV 1/5] END max_depth=10, max_features=sqrt, min_samples_split=4, n_estimators=60; total time=   3.4s\n",
      "[CV 2/5] END max_depth=10, max_features=sqrt, min_samples_split=4, n_estimators=60; total time=   2.9s\n",
      "[CV 3/5] END max_depth=10, max_features=sqrt, min_samples_split=4, n_estimators=60; total time=   2.7s\n",
      "[CV 4/5] END max_depth=10, max_features=sqrt, min_samples_split=4, n_estimators=60; total time=   2.4s\n",
      "[CV 5/5] END max_depth=10, max_features=sqrt, min_samples_split=4, n_estimators=60; total time=   2.9s\n",
      "[CV 1/5] END max_depth=9, max_features=log2, min_samples_split=7, n_estimators=70; total time=   1.4s\n",
      "[CV 2/5] END max_depth=9, max_features=log2, min_samples_split=7, n_estimators=70; total time=   1.5s\n",
      "[CV 3/5] END max_depth=9, max_features=log2, min_samples_split=7, n_estimators=70; total time=   2.0s\n",
      "[CV 4/5] END max_depth=9, max_features=log2, min_samples_split=7, n_estimators=70; total time=   2.2s\n",
      "[CV 5/5] END max_depth=9, max_features=log2, min_samples_split=7, n_estimators=70; total time=   1.7s\n",
      "[CV 1/5] END max_depth=10, max_features=auto, min_samples_split=9, n_estimators=100; total time=   5.0s\n",
      "[CV 2/5] END max_depth=10, max_features=auto, min_samples_split=9, n_estimators=100; total time=   4.2s\n",
      "[CV 3/5] END max_depth=10, max_features=auto, min_samples_split=9, n_estimators=100; total time=   4.1s\n",
      "[CV 4/5] END max_depth=10, max_features=auto, min_samples_split=9, n_estimators=100; total time=   4.2s\n",
      "[CV 5/5] END max_depth=10, max_features=auto, min_samples_split=9, n_estimators=100; total time=   4.1s\n"
     ]
    }
   ],
   "source": [
    "from sklearn.model_selection import RandomizedSearchCV\n",
    "rf=RandomForestClassifier(random_state=42)\n",
    "param_dict={\n",
    "            'n_estimators':[50,60,70,100],\n",
    "            'min_samples_split':[4,7,9],\n",
    "            'max_depth':[7,8,9,10],\n",
    "            'max_features':['auto','sqrt','log2']\n",
    "}\n",
    "rdsc=RandomizedSearchCV(rf,param_distributions=param_dict,cv=5,verbose=5)\n",
    "rdsc.fit(X_train_tfidf,y_train)\n",
    "pred=rdsc.predict(X_test_tfidf)"
   ]
  },
  {
   "cell_type": "code",
   "execution_count": 22,
   "metadata": {},
   "outputs": [
    {
     "name": "stdout",
     "output_type": "stream",
     "text": [
      "{'n_estimators': 50, 'min_samples_split': 4, 'max_features': 'sqrt', 'max_depth': 10}\n",
      "RandomForestClassifier(max_depth=10, max_features='sqrt', min_samples_split=4,\n",
      "                       n_estimators=50, random_state=42)\n",
      "0.4607671640294333\n"
     ]
    }
   ],
   "source": [
    "print(rdsc.best_params_)\n",
    "print(rdsc.best_estimator_)\n",
    "print(rdsc.best_score_)"
   ]
  },
  {
   "cell_type": "markdown",
   "metadata": {},
   "source": [
    "# 5. Gradiant Boost Classifier"
   ]
  },
  {
   "cell_type": "code",
   "execution_count": 23,
   "metadata": {},
   "outputs": [
    {
     "name": "stdout",
     "output_type": "stream",
     "text": [
      "Train Score 0.6634744301857881\n",
      "Test Score 0.6205311542390194\n"
     ]
    }
   ],
   "source": [
    "gbc=GradientBoostingClassifier()\n",
    "gbc.fit(X_train_tfidf,y_train)\n",
    "pred=gbc.predict(X_test_tfidf)\n",
    "print('Train Score',gbc.score(X_train_tfidf,y_train))\n",
    "print('Test Score',gbc.score(X_test_tfidf,y_test))"
   ]
  },
  {
   "cell_type": "code",
   "execution_count": 24,
   "metadata": {},
   "outputs": [
    {
     "data": {
      "text/plain": [
       "array([[1425,   74,   71],\n",
       "       [ 551,  472,   48],\n",
       "       [ 658,   84,  533]], dtype=int64)"
      ]
     },
     "execution_count": 24,
     "metadata": {},
     "output_type": "execute_result"
    }
   ],
   "source": [
    "confusion_matrix(y_test,pred)"
   ]
  },
  {
   "cell_type": "markdown",
   "metadata": {},
   "source": [
    "# 6. XGBoost Classifier\n"
   ]
  },
  {
   "cell_type": "code",
   "execution_count": 25,
   "metadata": {},
   "outputs": [
    {
     "name": "stdout",
     "output_type": "stream",
     "text": [
      "[21:52:34] WARNING: C:/Users/Administrator/workspace/xgboost-win64_release_1.3.0/src/learner.cc:1061: Starting in XGBoost 1.3.0, the default evaluation metric used with the objective 'multi:softprob' was changed from 'merror' to 'mlogloss'. Explicitly set eval_metric if you'd like to restore the old behavior.\n",
      "Train Score 0.8078273638511141\n",
      "Test Score 0.7027579162410623\n"
     ]
    }
   ],
   "source": [
    "from xgboost import XGBClassifier\n",
    "\n",
    "xgb=XGBClassifier()\n",
    "xgb.fit(X_train_tfidf,y_train)\n",
    "pred=xgb.predict(X_test_tfidf)\n",
    "print('Train Score',xgb.score(X_train_tfidf,y_train))\n",
    "print('Test Score',xgb.score(X_test_tfidf,y_test))"
   ]
  },
  {
   "cell_type": "code",
   "execution_count": 26,
   "metadata": {},
   "outputs": [
    {
     "name": "stdout",
     "output_type": "stream",
     "text": [
      "              precision    recall  f1-score   support\n",
      "\n",
      "         EAP       0.63      0.86      0.73      1570\n",
      "         HPL       0.76      0.61      0.67      1071\n",
      "         MWS       0.81      0.58      0.68      1275\n",
      "\n",
      "    accuracy                           0.70      3916\n",
      "   macro avg       0.73      0.69      0.69      3916\n",
      "weighted avg       0.73      0.70      0.70      3916\n",
      "\n"
     ]
    }
   ],
   "source": [
    "print(classification_report(y_test,pred))"
   ]
  },
  {
   "cell_type": "markdown",
   "metadata": {},
   "source": [
    "# 7. Naive Bayes Classifier"
   ]
  },
  {
   "cell_type": "code",
   "execution_count": 27,
   "metadata": {},
   "outputs": [],
   "source": [
    "#X_train_tfidf_converted=X_train_tfidf.toarray()\n",
    "#X_test_tfidf_converted=X_test_tfidf.toarray()\n"
   ]
  },
  {
   "cell_type": "code",
   "execution_count": 28,
   "metadata": {},
   "outputs": [],
   "source": [
    "#gnb=GaussianNB()\n",
    "#gnb.fit(X_train_tfidf_converted,y_train)\n",
    "#pred=gnb.predict(X_test_tfidf_converted)\n",
    "#print('Train score',gnb.score(X_train_tfidf_converted,y_train))\n",
    "#print('Test Score',gnb.score(X_test_tfidf_converted,y_test))"
   ]
  },
  {
   "cell_type": "markdown",
   "metadata": {},
   "source": [
    "# 8. Support Vector Machine\n"
   ]
  },
  {
   "cell_type": "code",
   "execution_count": 29,
   "metadata": {},
   "outputs": [
    {
     "name": "stdout",
     "output_type": "stream",
     "text": [
      "Train score 0.9905509800165996\n",
      "Test Score 0.8036261491317671\n"
     ]
    }
   ],
   "source": [
    "from sklearn.svm import SVC\n",
    "svc=SVC()\n",
    "svc.fit(X_train_tfidf,y_train)\n",
    "pred=svc.predict(X_test_tfidf)\n",
    "print('Train score',svc.score(X_train_tfidf,y_train))\n",
    "print('Test Score',svc.score(X_test_tfidf,y_test))"
   ]
  },
  {
   "cell_type": "markdown",
   "metadata": {},
   "source": [
    "# Hyperparameter Tuning (SVC)\n"
   ]
  },
  {
   "cell_type": "code",
   "execution_count": 30,
   "metadata": {},
   "outputs": [
    {
     "name": "stdout",
     "output_type": "stream",
     "text": [
      "Fitting 5 folds for each of 10 candidates, totalling 50 fits\n",
      "[CV 1/5] END ................C=1000, gamma=0.001, kernel=rbf; total time= 1.1min\n",
      "[CV 2/5] END ................C=1000, gamma=0.001, kernel=rbf; total time= 1.2min\n",
      "[CV 3/5] END ................C=1000, gamma=0.001, kernel=rbf; total time= 1.1min\n",
      "[CV 4/5] END ................C=1000, gamma=0.001, kernel=rbf; total time= 1.2min\n",
      "[CV 5/5] END ................C=1000, gamma=0.001, kernel=rbf; total time= 1.3min\n",
      "[CV 1/5] END .......................C=1, gamma=1, kernel=rbf; total time= 2.3min\n",
      "[CV 2/5] END .......................C=1, gamma=1, kernel=rbf; total time= 2.0min\n",
      "[CV 3/5] END .......................C=1, gamma=1, kernel=rbf; total time= 2.3min\n",
      "[CV 4/5] END .......................C=1, gamma=1, kernel=rbf; total time= 1.9min\n",
      "[CV 5/5] END .......................C=1, gamma=1, kernel=rbf; total time= 2.0min\n",
      "[CV 1/5] END ...................C=100, gamma=0.1, kernel=rbf; total time= 1.7min\n",
      "[CV 2/5] END ...................C=100, gamma=0.1, kernel=rbf; total time= 1.9min\n",
      "[CV 3/5] END ...................C=100, gamma=0.1, kernel=rbf; total time= 1.9min\n",
      "[CV 4/5] END ...................C=100, gamma=0.1, kernel=rbf; total time= 2.1min\n",
      "[CV 5/5] END ...................C=100, gamma=0.1, kernel=rbf; total time=53.4min\n",
      "[CV 1/5] END ..................C=1, gamma=0.0001, kernel=rbf; total time= 1.7min\n",
      "[CV 2/5] END ..................C=1, gamma=0.0001, kernel=rbf; total time= 1.3min\n",
      "[CV 3/5] END ..................C=1, gamma=0.0001, kernel=rbf; total time= 1.4min\n",
      "[CV 4/5] END ..................C=1, gamma=0.0001, kernel=rbf; total time= 1.4min\n",
      "[CV 5/5] END ..................C=1, gamma=0.0001, kernel=rbf; total time= 1.4min\n",
      "[CV 1/5] END .................C=1000, gamma=0.01, kernel=rbf; total time=  54.8s\n",
      "[CV 2/5] END .................C=1000, gamma=0.01, kernel=rbf; total time=  58.5s\n",
      "[CV 3/5] END .................C=1000, gamma=0.01, kernel=rbf; total time=  54.8s\n",
      "[CV 4/5] END .................C=1000, gamma=0.01, kernel=rbf; total time=  55.3s\n",
      "[CV 5/5] END .................C=1000, gamma=0.01, kernel=rbf; total time=  54.5s\n",
      "[CV 1/5] END ..................C=10, gamma=0.001, kernel=rbf; total time= 1.5min\n",
      "[CV 2/5] END ..................C=10, gamma=0.001, kernel=rbf; total time= 1.5min\n",
      "[CV 3/5] END ..................C=10, gamma=0.001, kernel=rbf; total time= 1.5min\n",
      "[CV 4/5] END ..................C=10, gamma=0.001, kernel=rbf; total time= 1.4min\n",
      "[CV 5/5] END ..................C=10, gamma=0.001, kernel=rbf; total time= 1.5min\n",
      "[CV 1/5] END ................C=100, gamma=0.0001, kernel=rbf; total time= 1.5min\n",
      "[CV 2/5] END ................C=100, gamma=0.0001, kernel=rbf; total time= 1.4min\n",
      "[CV 3/5] END ................C=100, gamma=0.0001, kernel=rbf; total time= 1.5min\n",
      "[CV 4/5] END ................C=100, gamma=0.0001, kernel=rbf; total time= 1.5min\n",
      "[CV 5/5] END ................C=100, gamma=0.0001, kernel=rbf; total time= 1.7min\n",
      "[CV 1/5] END ...............C=1000, gamma=0.0001, kernel=rbf; total time= 1.3min\n",
      "[CV 2/5] END ...............C=1000, gamma=0.0001, kernel=rbf; total time= 1.6min\n",
      "[CV 3/5] END ...............C=1000, gamma=0.0001, kernel=rbf; total time= 2.5min\n",
      "[CV 4/5] END ...............C=1000, gamma=0.0001, kernel=rbf; total time= 1.4min\n",
      "[CV 5/5] END ...............C=1000, gamma=0.0001, kernel=rbf; total time= 1.5min\n",
      "[CV 1/5] END ..................C=100, gamma=0.01, kernel=rbf; total time= 1.1min\n",
      "[CV 2/5] END ..................C=100, gamma=0.01, kernel=rbf; total time= 1.2min\n",
      "[CV 3/5] END ..................C=100, gamma=0.01, kernel=rbf; total time= 1.2min\n",
      "[CV 4/5] END ..................C=100, gamma=0.01, kernel=rbf; total time= 1.2min\n",
      "[CV 5/5] END ..................C=100, gamma=0.01, kernel=rbf; total time= 1.2min\n",
      "[CV 1/5] END ...................C=0.1, gamma=0.1, kernel=rbf; total time= 1.8min\n",
      "[CV 2/5] END ...................C=0.1, gamma=0.1, kernel=rbf; total time= 1.7min\n",
      "[CV 3/5] END ...................C=0.1, gamma=0.1, kernel=rbf; total time= 1.8min\n",
      "[CV 4/5] END ...................C=0.1, gamma=0.1, kernel=rbf; total time= 1.9min\n",
      "[CV 5/5] END ...................C=0.1, gamma=0.1, kernel=rbf; total time= 1.8min\n"
     ]
    },
    {
     "data": {
      "text/plain": [
       "RandomizedSearchCV(estimator=SVC(),\n",
       "                   param_distributions={'C': [0.1, 1, 10, 100, 1000],\n",
       "                                        'gamma': [1, 0.1, 0.01, 0.001, 0.0001],\n",
       "                                        'kernel': ['rbf']},\n",
       "                   verbose=3)"
      ]
     },
     "execution_count": 30,
     "metadata": {},
     "output_type": "execute_result"
    }
   ],
   "source": [
    "param_dict={\n",
    "    'C':[0.1,1,10,100,1000],\n",
    "    'gamma':[1,0.1,0.01,0.001,0.0001],\n",
    "    'kernel':['rbf']\n",
    "}\n",
    "rscv=RandomizedSearchCV(svc,param_dict,refit=True,verbose=3)\n",
    "rscv.fit(X_train_tfidf,y_train)"
   ]
  },
  {
   "cell_type": "code",
   "execution_count": 31,
   "metadata": {},
   "outputs": [
    {
     "name": "stdout",
     "output_type": "stream",
     "text": [
      "{'kernel': 'rbf', 'gamma': 1, 'C': 1}\n",
      "SVC(C=1, gamma=1)\n",
      "0.795058861320129\n"
     ]
    }
   ],
   "source": [
    "print(rscv.best_params_)\n",
    "print(rscv.best_estimator_)\n",
    "print(rscv.best_score_)"
   ]
  },
  {
   "cell_type": "markdown",
   "metadata": {},
   "source": [
    "# 9. K Nearest Neighbors Classifier (KNN)\n"
   ]
  },
  {
   "cell_type": "code",
   "execution_count": 32,
   "metadata": {},
   "outputs": [
    {
     "name": "stdout",
     "output_type": "stream",
     "text": [
      "Train Score 0.5881376492370555\n",
      "Test Score 0.501532175689479\n"
     ]
    }
   ],
   "source": [
    "knn=KNeighborsClassifier()\n",
    "knn.fit(X_train_tfidf,y_train)\n",
    "pred=knn.predict(X_test_tfidf)\n",
    "print('Train Score',knn.score(X_train_tfidf,y_train))\n",
    "print('Test Score',knn.score(X_test_tfidf,y_test))\n"
   ]
  },
  {
   "cell_type": "markdown",
   "metadata": {},
   "source": [
    "# Unsupervised ML Model\n",
    "## K-Mean Clustering"
   ]
  },
  {
   "cell_type": "code",
   "execution_count": 33,
   "metadata": {},
   "outputs": [
    {
     "data": {
      "text/plain": [
       "Text(0.5, 1.0, 'Elbow Curve')"
      ]
     },
     "execution_count": 33,
     "metadata": {},
     "output_type": "execute_result"
    },
    {
     "data": {
      "image/png": "[encoded data removed]",
      "text/plain": [
       "<Figure size 432x288 with 1 Axes>"
      ]
     },
     "metadata": {
      "needs_background": "light"
     },
     "output_type": "display_data"
    }
   ],
   "source": [
    "from sklearn.cluster import KMeans\n",
    "kmns=KMeans()\n",
    "kmns.fit(X_train_tfidf)\n",
    "\n",
    "#finding the optimul number of clusters\n",
    "\n",
    "num_clusters=range(2,11)\n",
    "\n",
    "wss=[]  # Within Sum Of Square(WSS)\n",
    "\n",
    "for n in num_clusters:\n",
    "    kmns=KMeans(n_clusters=n)\n",
    "    kmns.fit(X_train_tfidf)\n",
    "    wss.append(kmns.inertia_)\n",
    "    \n",
    "plt.plot(num_clusters,wss)\n",
    "plt.title('Elbow Curve')\n",
    "    "
   ]
  },
  {
   "cell_type": "code",
   "execution_count": null,
   "metadata": {},
   "outputs": [],
   "source": []
  },
  {
   "cell_type": "code",
   "execution_count": null,
   "metadata": {},
   "outputs": [],
   "source": []
  }
 ],
 "metadata": {
  "kernelspec": {
   "display_name": "Python 3",
   "language": "python",
   "name": "python3"
  },
  "language_info": {
   "codemirror_mode": {
    "name": "ipython",
    "version": 3
   },
   "file_extension": ".py",
   "mimetype": "text/x-python",
   "name": "python",
   "nbconvert_exporter": "python",
   "pygments_lexer": "ipython3",
   "version": "3.8.3"
  }
 },
 "nbformat": 4,
 "nbformat_minor": 4
}
